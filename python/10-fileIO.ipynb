{
 "cells": [
  {
   "cell_type": "markdown",
   "metadata": {},
   "source": [
    "### File I/O"
   ]
  },
  {
   "cell_type": "code",
   "execution_count": 1,
   "metadata": {},
   "outputs": [],
   "source": [
    "f = open('test.txt','w')\n",
    "for i in range(10):\n",
    "    f.write('This is line {}\\n'.format(i+1))"
   ]
  },
  {
   "cell_type": "code",
   "execution_count": 2,
   "metadata": {},
   "outputs": [],
   "source": [
    "f = open('test.txt','a')\n",
    "for i in range(10):\n",
    "    f.write('This is line {}\\n'.format(i+1))\n",
    "f.close()"
   ]
  },
  {
   "cell_type": "code",
   "execution_count": 3,
   "metadata": {},
   "outputs": [],
   "source": [
    "with open(\"test1.txt\",'w') as f:\n",
    "    for i in range(10):\n",
    "        f.write(\"Hello World {}\\n\".format(i))\n",
    "f.close()"
   ]
  },
  {
   "cell_type": "code",
   "execution_count": 5,
   "metadata": {},
   "outputs": [
    {
     "name": "stdout",
     "output_type": "stream",
     "text": [
      "Hello World 0\n",
      "Hello World 1\n",
      "Hello World 2\n",
      "Hello World 3\n",
      "Hello World 4\n",
      "Hello World 5\n",
      "Hello World 6\n",
      "Hello World 7\n",
      "Hello World 8\n",
      "Hello World 9\n"
     ]
    }
   ],
   "source": [
    "# Open a file to read\n",
    "try:\n",
    "    f = open('test1.txt','r')\n",
    "except:\n",
    "    print(\"check your file name\")\n",
    "\n",
    "fl = f.readlines()\n",
    "\n",
    "for i in fl:\n",
    "    print(i.strip())\n",
    "\n",
    "f.close()"
   ]
  },
  {
   "cell_type": "code",
   "execution_count": 11,
   "metadata": {},
   "outputs": [],
   "source": [
    "# Challenge\n",
    "\n",
    "import sqlite3\n",
    "\n",
    "db = sqlite3.connect('school.db')\n",
    "\n",
    "students = db.execute('select * from subjects order by subject')\n",
    "#print(students)\n",
    "#for i in students:\n",
    "#    print(i)\n",
    "\n",
    "with open('subjects.txt','w') as f:\n",
    "    for i,j,k in students:\n",
    "        f.write(\"{}\\t{}\\t{}\\n\".format(i,j,k))\n",
    "f.close()"
   ]
  },
  {
   "cell_type": "code",
   "execution_count": 12,
   "metadata": {},
   "outputs": [
    {
     "name": "stdout",
     "output_type": "stream",
     "text": [
      "Chinese\t50\t8\n",
      "English\t200\t10\n",
      "Math\t80\t12\n",
      "Science\t80\t12\n"
     ]
    }
   ],
   "source": [
    "f = open(\"subjects.txt\",\"r\")\n",
    "for i in f:\n",
    "\tprint(i.strip())\n",
    "f.close()"
   ]
  },
  {
   "cell_type": "code",
   "execution_count": 14,
   "metadata": {},
   "outputs": [
    {
     "name": "stdout",
     "output_type": "stream",
     "text": [
      "Chinese\t50\t8\n",
      "English\t200\t10\n",
      "Math\t80\t12\n",
      "Science\t80\t12\n"
     ]
    }
   ],
   "source": [
    "for i in open('subjects.txt','r'):\n",
    "    print (i.strip())"
   ]
  },
  {
   "cell_type": "code",
   "execution_count": 17,
   "metadata": {},
   "outputs": [
    {
     "name": "stdout",
     "output_type": "stream",
     "text": [
      "sorry file does not exist.\n"
     ]
    }
   ],
   "source": [
    "try:\n",
    " \tf = open(\"test2.txt\",'r')\n",
    "except:\n",
    " \tprint(\"sorry file does not exist.\")"
   ]
  },
  {
   "cell_type": "code",
   "execution_count": null,
   "metadata": {},
   "outputs": [],
   "source": []
  }
 ],
 "metadata": {
  "kernelspec": {
   "display_name": "Python 3",
   "language": "python",
   "name": "python3"
  },
  "language_info": {
   "codemirror_mode": {
    "name": "ipython",
    "version": 3
   },
   "file_extension": ".py",
   "mimetype": "text/x-python",
   "name": "python",
   "nbconvert_exporter": "python",
   "pygments_lexer": "ipython3",
   "version": "3.6.4"
  }
 },
 "nbformat": 4,
 "nbformat_minor": 2
}
