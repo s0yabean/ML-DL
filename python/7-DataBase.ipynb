{
 "cells": [
  {
   "cell_type": "markdown",
   "metadata": {},
   "source": [
    "### Database"
   ]
  },
  {
   "cell_type": "code",
   "execution_count": 1,
   "metadata": {},
   "outputs": [],
   "source": [
    "import sqlite3"
   ]
  },
  {
   "cell_type": "code",
   "execution_count": 2,
   "metadata": {},
   "outputs": [],
   "source": [
    "db = sqlite3.connect('test.db')"
   ]
  },
  {
   "cell_type": "code",
   "execution_count": 3,
   "metadata": {},
   "outputs": [
    {
     "data": {
      "text/plain": [
       "<sqlite3.Cursor at 0x621eb9dea0>"
      ]
     },
     "execution_count": 3,
     "metadata": {},
     "output_type": "execute_result"
    }
   ],
   "source": [
    "db.execute('create table student (name text,rank int)')"
   ]
  },
  {
   "cell_type": "code",
   "execution_count": 4,
   "metadata": {},
   "outputs": [],
   "source": [
    "db.commit()"
   ]
  },
  {
   "cell_type": "code",
   "execution_count": 5,
   "metadata": {},
   "outputs": [],
   "source": [
    "# Insert Record\n",
    "db.execute('insert into student (name,rank) values (?,?)',('Belinda',2))\n",
    "db.execute('insert into student (name,rank) values (?,?)',('Jane',3))\n",
    "db.execute('insert into student (name,rank) values (?,?)',('Steve',4))\n",
    "db.execute('insert into student (name,rank) values (?,?)',('Alfred',5))\n",
    "db.commit()"
   ]
  },
  {
   "cell_type": "code",
   "execution_count": 8,
   "metadata": {},
   "outputs": [],
   "source": [
    "# Read REcord\n",
    "list = db.execute('select * from student order by rank')"
   ]
  },
  {
   "cell_type": "code",
   "execution_count": 11,
   "metadata": {},
   "outputs": [
    {
     "name": "stdout",
     "output_type": "stream",
     "text": [
      "('Belinda', 2)\n",
      "('Jane', 3)\n",
      "('Steve', 4)\n",
      "('Alfred', 5)\n"
     ]
    }
   ],
   "source": [
    "for i in list:\n",
    "    print(i)"
   ]
  },
  {
   "cell_type": "code",
   "execution_count": 12,
   "metadata": {},
   "outputs": [
    {
     "data": {
      "text/plain": [
       "<sqlite3.Cursor at 0x621eb9de30>"
      ]
     },
     "execution_count": 12,
     "metadata": {},
     "output_type": "execute_result"
    }
   ],
   "source": [
    "# Update Record\n",
    "db.execute('update student set rank=? where name=?',(5,'Steve'))\n",
    "db.execute('update student set rank=? where name=?',(4,'Alfred'))"
   ]
  },
  {
   "cell_type": "code",
   "execution_count": 13,
   "metadata": {},
   "outputs": [
    {
     "name": "stdout",
     "output_type": "stream",
     "text": [
      "('Belinda', 2)\n",
      "('Jane', 3)\n",
      "('Alfred', 4)\n",
      "('Steve', 5)\n"
     ]
    }
   ],
   "source": [
    "list = db.execute('select * from student order by rank')\n",
    "for i in list:\n",
    "    print(i)"
   ]
  },
  {
   "cell_type": "code",
   "execution_count": 14,
   "metadata": {},
   "outputs": [
    {
     "data": {
      "text/plain": [
       "<sqlite3.Cursor at 0x621e7b5ce0>"
      ]
     },
     "execution_count": 14,
     "metadata": {},
     "output_type": "execute_result"
    }
   ],
   "source": [
    "# Delete Data\n",
    "db.execute('DELETE FROM student WHERE rank = 4')"
   ]
  },
  {
   "cell_type": "code",
   "execution_count": 15,
   "metadata": {},
   "outputs": [
    {
     "name": "stdout",
     "output_type": "stream",
     "text": [
      "('Belinda', 2)\n",
      "('Jane', 3)\n",
      "('Steve', 5)\n"
     ]
    }
   ],
   "source": [
    "list = db.execute('select * from student order by rank')\n",
    "for i in list:\n",
    "    print(i)"
   ]
  },
  {
   "cell_type": "code",
   "execution_count": 16,
   "metadata": {},
   "outputs": [
    {
     "name": "stdout",
     "output_type": "stream",
     "text": [
      "('Chinese', 50, 8)\n",
      "('English', 200, 10)\n",
      "('Math', 80, 12)\n",
      "('Science', 80, 12)\n"
     ]
    }
   ],
   "source": [
    "# Challenge\n",
    "db = sqlite3.connect('school.db')\n",
    "\n",
    "db.execute('create table subjects (subject text,students int, classes int)')\n",
    "\n",
    "db.execute('insert into subjects (subject,students, classes) values (?,?,?)',('English',200,10))\n",
    "db.execute('insert into subjects (subject,students, classes) values (?,?,?)',('Chinese',50,8))\n",
    "db.execute('insert into subjects (subject,students, classes) values (?,?,?)',('Math',80,12))\n",
    "db.execute('insert into subjects (subject,students, classes) values (?,?,?)',('Science',80,12))\n",
    "db.commit()\n",
    "\n",
    "list = db.execute('select * from subjects order by subject')\n",
    "\n",
    "for i in list:\n",
    "    print(i)"
   ]
  },
  {
   "cell_type": "code",
   "execution_count": null,
   "metadata": {},
   "outputs": [],
   "source": []
  }
 ],
 "metadata": {
  "kernelspec": {
   "display_name": "Python 3",
   "language": "python",
   "name": "python3"
  },
  "language_info": {
   "codemirror_mode": {
    "name": "ipython",
    "version": 3
   },
   "file_extension": ".py",
   "mimetype": "text/x-python",
   "name": "python",
   "nbconvert_exporter": "python",
   "pygments_lexer": "ipython3",
   "version": "3.6.4"
  }
 },
 "nbformat": 4,
 "nbformat_minor": 2
}
