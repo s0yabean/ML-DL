{
 "cells": [
  {
   "cell_type": "markdown",
   "metadata": {},
   "source": [
    "### Exception"
   ]
  },
  {
   "cell_type": "code",
   "execution_count": 2,
   "metadata": {},
   "outputs": [
    {
     "name": "stdout",
     "output_type": "stream",
     "text": [
      "Enter an integer: 2.3\n",
      "This is not an Interger\n"
     ]
    }
   ],
   "source": [
    "try:\n",
    "    i = int(input('Enter an integer: '))\n",
    "    print(\"You Enter \", i)\n",
    "except:\n",
    "    print(\"This is not an Interger\")"
   ]
  },
  {
   "cell_type": "code",
   "execution_count": 3,
   "metadata": {},
   "outputs": [
    {
     "name": "stdout",
     "output_type": "stream",
     "text": [
      "file does not exist\n"
     ]
    }
   ],
   "source": [
    "try:\n",
    "    f = open('test888.txt','r')\n",
    "except:\n",
    "    print(\"file does not exist\")\n"
   ]
  },
  {
   "cell_type": "code",
   "execution_count": 14,
   "metadata": {},
   "outputs": [
    {
     "name": "stdout",
     "output_type": "stream",
     "text": [
      "Guess the die no : 2\n",
      "Pls try again\n",
      "Guess the die no : 1\n",
      "Pls try again\n",
      "Guess the die no : 3\n",
      "Pls try again\n",
      "Guess the die no : 2\n",
      "Pls try again\n",
      "Guess the die no : 4\n",
      "Pls try again\n",
      "Guess the die no : 5\n",
      "Good Guess\n",
      "The correct answer is  5\n"
     ]
    }
   ],
   "source": [
    "# Challenge\n",
    "import random\n",
    "\n",
    "die = random.choice([1,2,3,4,5,6])\n",
    "\n",
    "while True:\n",
    "    try:\n",
    "        guess = int(input('Guess the die no : '))\n",
    "        if guess == die:\n",
    "            print(\"Good Guess\")\n",
    "            break\n",
    "        else:\n",
    "            int('wrong guess')\n",
    "    except:\n",
    "        print(\"Pls try again\")\n",
    "        \n",
    "print('The correct answer is ',die)"
   ]
  },
  {
   "cell_type": "code",
   "execution_count": 2,
   "metadata": {},
   "outputs": [
    {
     "name": "stdout",
     "output_type": "stream",
     "text": [
      "[1, 2, 3, 4, 5, 6, 7]\n"
     ]
    }
   ],
   "source": [
    "a = [1, 2, 3, \"a\", 4, 5, \"b\", 6, 7, \"c\"]\n",
    "b = []\n",
    "for i in a:\n",
    "    try:\n",
    "        if(i > 0):\n",
    "            b.append(i)\n",
    "    except:\n",
    "        pass\n",
    "        \n",
    "print(b)"
   ]
  },
  {
   "cell_type": "code",
   "execution_count": null,
   "metadata": {},
   "outputs": [],
   "source": []
  }
 ],
 "metadata": {
  "kernelspec": {
   "display_name": "Python 3",
   "language": "python",
   "name": "python3"
  },
  "language_info": {
   "codemirror_mode": {
    "name": "ipython",
    "version": 3
   },
   "file_extension": ".py",
   "mimetype": "text/x-python",
   "name": "python",
   "nbconvert_exporter": "python",
   "pygments_lexer": "ipython3",
   "version": "3.6.4"
  }
 },
 "nbformat": 4,
 "nbformat_minor": 2
}
