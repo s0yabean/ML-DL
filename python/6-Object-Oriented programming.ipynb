{
 "cells": [
  {
   "cell_type": "markdown",
   "metadata": {},
   "source": [
    "### Object Oriented Programming"
   ]
  },
  {
   "cell_type": "code",
   "execution_count": 2,
   "metadata": {},
   "outputs": [],
   "source": [
    "class Person:\n",
    "    def __init__(self,height):\n",
    "        self.height = height\n",
    "\n",
    "    def talk(self):\n",
    "        print(\"i can talk\")\n",
    "\n",
    "    def disp_height(self):\n",
    "        print(\"Height is {}cm\".format(self.height))"
   ]
  },
  {
   "cell_type": "code",
   "execution_count": 12,
   "metadata": {},
   "outputs": [],
   "source": [
    "p1 = Person(170)\n",
    "p2 = Person(180)"
   ]
  },
  {
   "cell_type": "code",
   "execution_count": 13,
   "metadata": {},
   "outputs": [
    {
     "name": "stdout",
     "output_type": "stream",
     "text": [
      "170\n",
      "Height is 170cm\n",
      "i can talk\n"
     ]
    }
   ],
   "source": [
    "p1.height = 170\n",
    "print(p1.height)\n",
    "p1.disp_height()\n",
    "p1.talk()"
   ]
  },
  {
   "cell_type": "code",
   "execution_count": 14,
   "metadata": {},
   "outputs": [
    {
     "name": "stdout",
     "output_type": "stream",
     "text": [
      "180\n",
      "Height is 180cm\n",
      "i can talk\n"
     ]
    }
   ],
   "source": [
    "print(p2.height)\n",
    "p2.disp_height()\n",
    "p2.talk()"
   ]
  },
  {
   "cell_type": "code",
   "execution_count": 47,
   "metadata": {},
   "outputs": [],
   "source": [
    "class Counter:\n",
    "    count = 0\n",
    "    def increment(self):\n",
    "        self.count += 1\n",
    "    def reset(self):\n",
    "        self.count = 0"
   ]
  },
  {
   "cell_type": "code",
   "execution_count": 48,
   "metadata": {},
   "outputs": [],
   "source": [
    "c1 = Counter()\n",
    "c2 = Counter()"
   ]
  },
  {
   "cell_type": "code",
   "execution_count": 49,
   "metadata": {},
   "outputs": [],
   "source": [
    "for c in \"The quick brown fox jumps over the lazy dog.\":\n",
    "    c1.increment()"
   ]
  },
  {
   "cell_type": "code",
   "execution_count": 52,
   "metadata": {},
   "outputs": [
    {
     "name": "stdout",
     "output_type": "stream",
     "text": [
      "We increment c1 0 times\n",
      "We incremented c2 0 times.\n",
      "After reset, c1 count is at 0\n"
     ]
    }
   ],
   "source": [
    "c2.increment()\n",
    "#c1.increment()\n",
    "c1.reset()\n",
    "print(\"We increment c1\", c1.count, \"times\")\n",
    "print(\"We incremented c2\", c1.count, \"times.\")\n",
    "print(\"After reset, c1 count is at\", c1.count)"
   ]
  },
  {
   "cell_type": "code",
   "execution_count": 54,
   "metadata": {},
   "outputs": [
    {
     "name": "stdout",
     "output_type": "stream",
     "text": [
      "We incremented c1 9 times.\n",
      "We incremented c2 1 times.\n",
      "After reset, c1 count is at 0\n"
     ]
    }
   ],
   "source": [
    "# a simple Counter class\n",
    "class Counter:\n",
    "    count = 0\n",
    "    def increment(self): \n",
    "        self.count += 1\n",
    "    def reset(self):\n",
    "        self.count = 0   # set the counter to 0\n",
    "\n",
    "# define two counter variables\n",
    "c1 = Counter()\n",
    "c2 = Counter()\n",
    "\n",
    "# use c1 to count the number of characters in a string\n",
    "for c in range(1,10):\n",
    "    c1.increment()\n",
    "    \n",
    "# increment c2 just once\n",
    "c2.increment()\n",
    "\n",
    "print(\"We incremented c1\", c1.count, \"times.\")\n",
    "print(\"We incremented c2\", c2.count, \"times.\")\n",
    "\n",
    "# reset c1 to 0\n",
    "c1.reset()\n",
    "print(\"After reset, c1 count is at\", c1.count)"
   ]
  },
  {
   "cell_type": "code",
   "execution_count": 55,
   "metadata": {},
   "outputs": [],
   "source": [
    "class Rectangle():\n",
    "\n",
    "    def __init__(self,length,width):\n",
    "        self.length = length\n",
    "        self.width = width\n",
    "\n",
    "    def area(self):\n",
    "        print(\"Area = {}\".format(self.length*self.width))"
   ]
  },
  {
   "cell_type": "code",
   "execution_count": 56,
   "metadata": {},
   "outputs": [
    {
     "name": "stdout",
     "output_type": "stream",
     "text": [
      "Area = 200\n"
     ]
    }
   ],
   "source": [
    "rect1 = Rectangle(10,20)\n",
    "rect1.area()"
   ]
  },
  {
   "cell_type": "code",
   "execution_count": 58,
   "metadata": {},
   "outputs": [
    {
     "name": "stdout",
     "output_type": "stream",
     "text": [
      "Area = 72\n"
     ]
    }
   ],
   "source": [
    "rect2 = Rectangle(6,12)\n",
    "rect2.area()"
   ]
  },
  {
   "cell_type": "code",
   "execution_count": 59,
   "metadata": {},
   "outputs": [],
   "source": [
    "# Challenge: Class \n",
    "class Employee():\n",
    "\n",
    "    empCount = 0\n",
    "\n",
    "    def __init__(self,name,salary):\n",
    "        self.name = name\n",
    "        self.salary = salary\n",
    "        Employee.empCount += 1\n",
    "\n",
    "    def __del__(self):\n",
    "        Employee.empCount -= 1\n",
    "\n",
    "    def disp_empCount(self):\n",
    "        print(\"Employee Count = {}\".format(Employee.empCount))\n",
    "\n",
    "    def disp_empDetails(self):\n",
    "        print(\"{} salary is {}\".format(self.name,self.salary))"
   ]
  },
  {
   "cell_type": "code",
   "execution_count": 60,
   "metadata": {},
   "outputs": [],
   "source": [
    "emp1 = Employee(\"Ally\",4000)\n",
    "emp2 = Employee(\"Belinda\",5000)\n",
    "emp3 = Employee(\"Jane\",2000)\n",
    "emp4 = Employee(\"Steven\",6000)"
   ]
  },
  {
   "cell_type": "code",
   "execution_count": 61,
   "metadata": {},
   "outputs": [
    {
     "name": "stdout",
     "output_type": "stream",
     "text": [
      "Employee Count = 4\n"
     ]
    }
   ],
   "source": [
    "emp1.disp_empCount()"
   ]
  },
  {
   "cell_type": "code",
   "execution_count": 62,
   "metadata": {},
   "outputs": [
    {
     "name": "stdout",
     "output_type": "stream",
     "text": [
      "Employee Count = 3\n"
     ]
    }
   ],
   "source": [
    "del emp4\n",
    "emp1.disp_empCount()"
   ]
  },
  {
   "cell_type": "code",
   "execution_count": 67,
   "metadata": {},
   "outputs": [
    {
     "name": "stdout",
     "output_type": "stream",
     "text": [
      "Jane salary is 2000\n"
     ]
    }
   ],
   "source": [
    "emp3.disp_empDetails()"
   ]
  },
  {
   "cell_type": "code",
   "execution_count": null,
   "metadata": {},
   "outputs": [],
   "source": []
  }
 ],
 "metadata": {
  "kernelspec": {
   "display_name": "Python 3",
   "language": "python",
   "name": "python3"
  },
  "language_info": {
   "codemirror_mode": {
    "name": "ipython",
    "version": 3
   },
   "file_extension": ".py",
   "mimetype": "text/x-python",
   "name": "python",
   "nbconvert_exporter": "python",
   "pygments_lexer": "ipython3",
   "version": "3.6.4"
  }
 },
 "nbformat": 4,
 "nbformat_minor": 2
}
