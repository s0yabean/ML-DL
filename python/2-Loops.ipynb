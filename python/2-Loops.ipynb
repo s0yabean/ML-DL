{
 "cells": [
  {
   "cell_type": "markdown",
   "metadata": {},
   "source": [
    "### Operators"
   ]
  },
  {
   "cell_type": "code",
   "execution_count": 5,
   "metadata": {},
   "outputs": [
    {
     "name": "stdout",
     "output_type": "stream",
     "text": [
      "5\n",
      "-1\n",
      "6\n",
      "0.6666666666666666\n",
      "0\n",
      "1\n",
      "8\n",
      "2\n"
     ]
    }
   ],
   "source": [
    "x = 2\n",
    "y = 3\n",
    "z = x + y\n",
    "print(z)\n",
    "print(x - y)\n",
    "print(x * y)\n",
    "print(x/y)\n",
    "print(x//y)\n",
    "print(z//y)\n",
    "print(x**y)\n",
    "print(x%y)"
   ]
  },
  {
   "cell_type": "code",
   "execution_count": 15,
   "metadata": {},
   "outputs": [
    {
     "name": "stdout",
     "output_type": "stream",
     "text": [
      "1\n",
      "2\n"
     ]
    }
   ],
   "source": [
    "print(4%3)\n",
    "print(5%3)"
   ]
  },
  {
   "cell_type": "code",
   "execution_count": 18,
   "metadata": {},
   "outputs": [
    {
     "name": "stdout",
     "output_type": "stream",
     "text": [
      "6\n",
      "5\n"
     ]
    }
   ],
   "source": [
    "a = 2\n",
    "a += 4 # Equivalent to a = a + 4\n",
    "print(a)\n",
    "a -= 1\n",
    "print(a)"
   ]
  },
  {
   "cell_type": "code",
   "execution_count": 26,
   "metadata": {},
   "outputs": [
    {
     "name": "stdout",
     "output_type": "stream",
     "text": [
      "False\n",
      "True\n",
      "True\n",
      "False\n"
     ]
    }
   ],
   "source": [
    "x = 3\n",
    "y = 2\n",
    "z = 3\n",
    "print(x < y)\n",
    "print(x <= z)\n",
    "print(z != y)\n",
    "print(z == y)"
   ]
  },
  {
   "cell_type": "code",
   "execution_count": 30,
   "metadata": {},
   "outputs": [
    {
     "name": "stdout",
     "output_type": "stream",
     "text": [
      "True\n",
      "True\n"
     ]
    }
   ],
   "source": [
    "a = [1, 2, 4, 10]\n",
    "print(5 not in a)\n",
    "print(10 in a)"
   ]
  },
  {
   "cell_type": "code",
   "execution_count": 41,
   "metadata": {},
   "outputs": [
    {
     "name": "stdout",
     "output_type": "stream",
     "text": [
      "True\n",
      "True\n",
      "True\n"
     ]
    }
   ],
   "source": [
    "a = 2\n",
    "b = 3\n",
    "c = 4\n",
    "print((a > b) or (b < c))\n",
    "print((a < b) and (b < c))\n",
    "print(not (c == b))"
   ]
  },
  {
   "cell_type": "markdown",
   "metadata": {},
   "source": [
    "### Control Structure"
   ]
  },
  {
   "cell_type": "code",
   "execution_count": 42,
   "metadata": {},
   "outputs": [
    {
     "name": "stdout",
     "output_type": "stream",
     "text": [
      "a is greater than b\n"
     ]
    }
   ],
   "source": [
    "a = 5\n",
    "b = 3\n",
    "if(a < b):\n",
    "    print(\"a is smaller than b\")\n",
    "elif(a > b):\n",
    "    print(\"a is greater than b\")\n",
    "else:\n",
    "    print(\"a is equal to b\")"
   ]
  },
  {
   "cell_type": "code",
   "execution_count": 45,
   "metadata": {},
   "outputs": [
    {
     "name": "stdout",
     "output_type": "stream",
     "text": [
      "0\n"
     ]
    }
   ],
   "source": [
    "order = 100\n",
    "discount = 25 if order > 200 else 0\n",
    "print(discount)"
   ]
  },
  {
   "cell_type": "code",
   "execution_count": 50,
   "metadata": {},
   "outputs": [
    {
     "name": "stdout",
     "output_type": "stream",
     "text": [
      "What is your grade\n",
      "a\n",
      "Excellent\n"
     ]
    }
   ],
   "source": [
    "grade = input('What is your grade\\n')\n",
    "grade = grade.upper()\n",
    "\n",
    "if (grade == 'A'):\n",
    "    print(\"Excellent\")\n",
    "elif (grade == \"B\"):\n",
    "    print(\"Well Done!\")\n",
    "elif (grade == 'C'):\n",
    "    print(\"Work Harder\")\n",
    "else:\n",
    "    print(\"I don't know your grade\")"
   ]
  },
  {
   "cell_type": "markdown",
   "metadata": {},
   "source": [
    "### While Loop"
   ]
  },
  {
   "cell_type": "code",
   "execution_count": 53,
   "metadata": {},
   "outputs": [
    {
     "name": "stdout",
     "output_type": "stream",
     "text": [
      "1\n",
      "2\n",
      "3\n",
      "4\n",
      "5\n",
      "6\n",
      "7\n",
      "8\n",
      "9\n"
     ]
    }
   ],
   "source": [
    "a = 1\n",
    "while (a<10):\n",
    "    print(a)\n",
    "#a += 1\n",
    "    a += 1"
   ]
  },
  {
   "cell_type": "code",
   "execution_count": 54,
   "metadata": {},
   "outputs": [
    {
     "name": "stdout",
     "output_type": "stream",
     "text": [
      "1\n",
      "2\n",
      "3\n",
      "5\n",
      "8\n",
      "13\n",
      "21\n",
      "34\n",
      "55\n",
      "89\n"
     ]
    }
   ],
   "source": [
    "a = 1\n",
    "b = 1\n",
    "while (b<100):\n",
    "    a,b = b,a+b\n",
    "    print(a)"
   ]
  },
  {
   "cell_type": "code",
   "execution_count": 55,
   "metadata": {},
   "outputs": [
    {
     "name": "stdout",
     "output_type": "stream",
     "text": [
      "3\n",
      "4\n",
      "5\n"
     ]
    }
   ],
   "source": [
    "# For Loop\n",
    "a = [3, 4, 5]\n",
    "for i in a:\n",
    "    print(i)"
   ]
  },
  {
   "cell_type": "code",
   "execution_count": 61,
   "metadata": {},
   "outputs": [
    {
     "name": "stdout",
     "output_type": "stream",
     "text": [
      "1\n",
      "2\n",
      "3\n",
      "4\n",
      "5\n",
      "1\n",
      "3\n",
      "5\n"
     ]
    }
   ],
   "source": [
    "for i in range(1,6):\n",
    "    print(i)\n",
    "    \n",
    "for i in range(1, 6, 2):\n",
    "    print(i)"
   ]
  },
  {
   "cell_type": "code",
   "execution_count": 65,
   "metadata": {},
   "outputs": [
    {
     "name": "stdout",
     "output_type": "stream",
     "text": [
      "Ally height is 168cm and weight is 60kg\n",
      "Belinda height is 155cm and weight is 68kg\n",
      "Jane height is 170cm and weight is 55kg\n"
     ]
    }
   ],
   "source": [
    "## Enumerate\n",
    "person = ['Ally','Belinda','Jane']\n",
    "height = [168,155,170]\n",
    "weight = [60,68,55]\n",
    "\n",
    "for index, name in enumerate(person):\n",
    "#    print(index, name)\n",
    "    print(\"{} height is {}cm and weight is {}kg\".format(name,height[index],weight[index]))"
   ]
  },
  {
   "cell_type": "code",
   "execution_count": 68,
   "metadata": {},
   "outputs": [
    {
     "name": "stdout",
     "output_type": "stream",
     "text": [
      "The height of Alfred is 170cm\n",
      "The height of Ally is 160cm\n",
      "The height of Belinda is 155cm\n"
     ]
    }
   ],
   "source": [
    "person = ['Alfred','Ally','Belinda']\n",
    "height = [170,160,155]\n",
    "for i,name in enumerate(person):\n",
    "\th = height[i]\n",
    "\tprint(\"The height of {} is {}cm\".format(name, h))"
   ]
  },
  {
   "cell_type": "code",
   "execution_count": 69,
   "metadata": {},
   "outputs": [
    {
     "name": "stdout",
     "output_type": "stream",
     "text": [
      "Alfred 170\n",
      "Ally 160\n",
      "Belinda 155\n"
     ]
    }
   ],
   "source": [
    "# Zip\n",
    "person = ['Alfred','Ally','Belinda']\n",
    "height = [170,160,155]\n",
    "\n",
    "c = zip(person,height)\n",
    "for i,j in c:\n",
    "     print(i,j)"
   ]
  },
  {
   "cell_type": "code",
   "execution_count": 70,
   "metadata": {},
   "outputs": [
    {
     "name": "stdout",
     "output_type": "stream",
     "text": [
      "[('Ally', 170, 60), ('Belinda', 159, 55), ('Jane', 161, 45)]\n"
     ]
    }
   ],
   "source": [
    "# Exercise: Zip\n",
    "name = ['Ally','Belinda','Jane']\n",
    "height = [170,159,161]\n",
    "weight = [60,55,45]\n",
    "\n",
    "c = zip(name,height,weight)\n",
    "print(list(c))\n",
    "\n",
    "for name, h, w in c:\n",
    "    print(\"{} height is {}cm and weight is {}kg\".format(name,h,w))"
   ]
  },
  {
   "cell_type": "code",
   "execution_count": 71,
   "metadata": {},
   "outputs": [
    {
     "name": "stdout",
     "output_type": "stream",
     "text": [
      "x =  1\n",
      "x =  2\n"
     ]
    }
   ],
   "source": [
    "for x in range(1,5):\n",
    "    if (x == 3): break\n",
    "    print(\"x = \", x)\n"
   ]
  },
  {
   "cell_type": "code",
   "execution_count": 72,
   "metadata": {},
   "outputs": [
    {
     "name": "stdout",
     "output_type": "stream",
     "text": [
      "x =  1\n",
      "x =  2\n",
      "x =  4\n"
     ]
    }
   ],
   "source": [
    "for x in range(1,5):\n",
    "    if (x == 3): continue\n",
    "    print(\"x = \", x)"
   ]
  },
  {
   "cell_type": "code",
   "execution_count": 75,
   "metadata": {},
   "outputs": [
    {
     "name": "stdout",
     "output_type": "stream",
     "text": [
      "1\n",
      "2\n"
     ]
    }
   ],
   "source": [
    "x = [1,2,3,4]\n",
    "for i in x:\n",
    "    if i % 3 == 0:\n",
    "        break\n",
    "    print(i)\n",
    "else:\n",
    "    print(\"no break\")"
   ]
  },
  {
   "cell_type": "code",
   "execution_count": 82,
   "metadata": {},
   "outputs": [
    {
     "name": "stdout",
     "output_type": "stream",
     "text": [
      "[1, 2, 3, 5, 7, 11, 13, 17, 19, 23, 29, 31, 37, 41, 43, 47, 53, 59, 61, 67, 71, 73, 79, 83, 89, 97]\n"
     ]
    }
   ],
   "source": [
    "# Prime Number Exercise\n",
    "primes = []\n",
    "for n in range(1,101):\n",
    "    for divisor in range(2, n):\n",
    "        if n%divisor == 0:break\n",
    "    else:\n",
    "        primes.append(n)\n",
    "\n",
    "print(primes)"
   ]
  },
  {
   "cell_type": "code",
   "execution_count": null,
   "metadata": {},
   "outputs": [],
   "source": []
  }
 ],
 "metadata": {
  "kernelspec": {
   "display_name": "Python 3",
   "language": "python",
   "name": "python3"
  },
  "language_info": {
   "codemirror_mode": {
    "name": "ipython",
    "version": 3
   },
   "file_extension": ".py",
   "mimetype": "text/x-python",
   "name": "python",
   "nbconvert_exporter": "python",
   "pygments_lexer": "ipython3",
   "version": "3.6.4"
  }
 },
 "nbformat": 4,
 "nbformat_minor": 2
}
