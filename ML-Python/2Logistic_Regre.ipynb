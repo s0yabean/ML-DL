{
 "cells": [
  {
   "cell_type": "markdown",
   "metadata": {},
   "source": [
    "## Machine Learning Based on Python"
   ]
  },
  {
   "cell_type": "markdown",
   "metadata": {},
   "source": [
    "\n",
    "### Logistic regression\n",
    "#### Classify the Iris dataset using Logistic Regression\n",
    "\n",
    "Logistic regression: Classification using a linear decision boundary.\n",
    "The logistic function gives the probability of belongingness to each class defined with respect to the decision boundaries. The logistic function is defined as follows: \n",
    "            $$\\sigma(z)=\\frac{1}{1+e^{-z}}$$ \n",
    "\n",
    "#### Prepare data:\n",
    "The data has 4 input-features and 3 output-classes. For simplicity we will use only two features: sepal-length and sepal-width (both in cm) and two output classes: Iris Setosa and Iris Versicolour.\n"
   ]
  },
  {
   "cell_type": "code",
   "execution_count": 1,
   "metadata": {},
   "outputs": [],
   "source": [
    "import numpy as np\n",
    "from sklearn import linear_model, datasets, tree\n",
    "import matplotlib.pyplot as plt\n",
    "%matplotlib inline"
   ]
  },
  {
   "cell_type": "code",
   "execution_count": 2,
   "metadata": {},
   "outputs": [
    {
     "name": "stdout",
     "output_type": "stream",
     "text": [
      "No. of Sample:  150\n",
      "[0 0 0 0 0 0 0 0 0 0 0 0 0 0 0 0 0 0 0 0 0 0 0 0 0 0 0 0 0 0 0 0 0 0 0 0 0\n",
      " 0 0 0 0 0 0 0 0 0 0 0 0 0 1 1 1 1 1 1 1 1 1 1 1 1 1 1 1 1 1 1 1 1 1 1 1 1\n",
      " 1 1 1 1 1 1 1 1 1 1 1 1 1 1 1 1 1 1 1 1 1 1 1 1 1 1 2 2 2 2 2 2 2 2 2 2 2\n",
      " 2 2 2 2 2 2 2 2 2 2 2 2 2 2 2 2 2 2 2 2 2 2 2 2 2 2 2 2 2 2 2 2 2 2 2 2 2\n",
      " 2 2]\n"
     ]
    }
   ],
   "source": [
    "iris = datasets.load_iris()\n",
    "# X1 = iris.data\n",
    "# Y1 = iris.target\n",
    "# print(X1, Y1)\n",
    "X = iris.data[:,:2] #Choosing only the first two input-features\n",
    "Y = iris.target\n",
    "n_samp = len(Y)\n",
    "print('No. of Sample: ', n_samp)\n",
    "print(Y)"
   ]
  },
  {
   "cell_type": "markdown",
   "metadata": {},
   "source": [
    "### Randonly split the Dataset into Training (70%), Validation (15%), and Testing (15%)"
   ]
  },
  {
   "cell_type": "code",
   "execution_count": 3,
   "metadata": {},
   "outputs": [],
   "source": [
    "random_indices = np.random.permutation(n_samp)\n",
    "#Training set\n",
    "num_training_samples = int(n_samp * 0.7)\n",
    "x_train = X[random_indices[:num_training_samples]]\n",
    "y_train = Y[random_indices[:num_training_samples]]\n",
    "\n",
    "#Validation set\n",
    "num_validation_samples = int(n_samp*0.15)\n",
    "x_val = X[random_indices[num_training_samples : num_training_samples+num_validation_samples]]\n",
    "y_val = Y[random_indices[num_training_samples: num_training_samples+num_validation_samples]]\n",
    "#Test set\n",
    "num_test_samples = int(n_samp*0.15)\n",
    "x_test = X[random_indices[-num_test_samples:]]\n",
    "y_test = Y[random_indices[-num_test_samples:]]"
   ]
  },
  {
   "cell_type": "code",
   "execution_count": 4,
   "metadata": {},
   "outputs": [
    {
     "name": "stdout",
     "output_type": "stream",
     "text": [
      "Train:  105 Valid:  22 Test:  22\n"
     ]
    }
   ],
   "source": [
    "print('Train: ',len(x_train),'Valid: ',len(x_val),'Test: ',len(x_test))"
   ]
  },
  {
   "cell_type": "markdown",
   "metadata": {},
   "source": [
    "### Visualize Training Data"
   ]
  },
  {
   "cell_type": "code",
   "execution_count": 5,
   "metadata": {},
   "outputs": [
    {
     "data": {
      "image/png": "[encoded data removed]",
      "text/plain": [
       "<matplotlib.figure.Figure at 0xff11179a90>"
      ]
     },
     "metadata": {},
     "output_type": "display_data"
    }
   ],
   "source": [
    "#Picking only the first two classes\n",
    "X_class0 = np.asmatrix([x_train[i] for i in range(len(x_train)) if y_train[i]==0]) \n",
    "Y_class0 = np.zeros((X_class0.shape[0]),dtype=np.int)\n",
    "\n",
    "X_class1 = np.asmatrix([x_train[i] for i in range(len(x_train)) if y_train[i]==1])\n",
    "Y_class1 = np.ones((X_class1.shape[0]),dtype=np.int)\n",
    "\n",
    "plt.scatter([X_class0[:,0]], [X_class0[:,1]],color='green')\n",
    "plt.scatter([X_class1[:,0]], [X_class1[:,1]],color='blue')\n",
    "plt.xlabel('Sepal Length')\n",
    "plt.ylabel('Sepal Width')\n",
    "plt.legend(['class 0','class 1'])\n",
    "plt.title('Visualization of training data')\n",
    "plt.show()"
   ]
  },
  {
   "cell_type": "markdown",
   "metadata": {},
   "source": [
    "### Fit Logistic Regression"
   ]
  },
  {
   "cell_type": "code",
   "execution_count": 6,
   "metadata": {},
   "outputs": [
    {
     "data": {
      "image/png": "[encoded data removed]",
      "text/plain": [
       "<matplotlib.figure.Figure at 0xff132314e0>"
      ]
     },
     "metadata": {},
     "output_type": "display_data"
    }
   ],
   "source": [
    "model = linear_model.LogisticRegression(C=1e4)#C is the inverse of the regularization factor\n",
    "\n",
    "full_X = np.concatenate((X_class0,X_class1),axis=0)\n",
    "full_Y = np.concatenate((Y_class0,Y_class1),axis=0)\n",
    "\n",
    "model.fit(full_X,full_Y)\n",
    "\n",
    "# Plot the decision boundary. [x_min, m_max] x [y_min, y_max].\n",
    "h = 0.01  # step size in the mesh\n",
    "x_min, x_max = full_X[:, 0].min() - 0.5, full_X[:, 0].max() + 0.5\n",
    "y_min, y_max = full_X[:, 1].min() - 0.5, full_X[:, 1].max() + 0.5\n",
    "xx, yy = np.meshgrid(np.arange(x_min, x_max, h), np.arange(y_min, y_max, h))\n",
    " \n",
    "#predict for the entire mesh to find the regions for each class in the feature space\n",
    "Z = model.predict(np.c_[xx.ravel(), yy.ravel()])\n",
    "\n",
    "# Put the result into a color plot\n",
    "Z = Z.reshape(xx.shape)\n",
    "plt.figure()\n",
    "plt.pcolormesh(xx, yy, Z, cmap=plt.cm.Paired)\n",
    "\n",
    "# Plot also the training points\n",
    "plt.scatter([X_class0[:, 0]], [X_class0[:, 1]], c='blue', edgecolors='r', cmap=plt.cm.Paired)\n",
    "plt.scatter([X_class1[:, 0]], [X_class1[:, 1]], c='green', edgecolors='b', cmap=plt.cm.Paired)\n",
    "plt.xlabel('Sepal Length')\n",
    "plt.ylabel('Sepal Width')\n",
    "plt.title('Visualization of decision boundary')\n",
    "plt.xlim(xx.min(), xx.max())\n",
    "plt.ylim(yy.min(), yy.max())\n",
    "\n",
    "plt.show()"
   ]
  },
  {
   "cell_type": "markdown",
   "metadata": {},
   "source": [
    "### Evaluate the Model"
   ]
  },
  {
   "cell_type": "code",
   "execution_count": 7,
   "metadata": {},
   "outputs": [
    {
     "name": "stdout",
     "output_type": "stream",
     "text": [
      "Valid_misclass_percentage = 40.909090909090914 %\n",
      "Test_misclass_percentage = 36.36363636363637 %\n"
     ]
    }
   ],
   "source": [
    "validation_set_predictions = [model.predict(x_val[i].reshape((1,2)))[0] for i in range(x_val.shape[0])]\n",
    "validation_misclassification_percentage = 0\n",
    "for i in range(len(validation_set_predictions)):\n",
    "    if validation_set_predictions[i] != y_val[i]:\n",
    "        validation_misclassification_percentage += 1\n",
    "validation_misclassification_percentage *= 100/len(y_val)\n",
    "print ('Valid_misclass_percentage =', validation_misclassification_percentage, '%')\n",
    "\n",
    "test_set_predictions = [model.predict(x_test[i].reshape((1,2)))[0] for i in range(x_test.shape[0])]\n",
    "\n",
    "test_misclassification_percentage = 0\n",
    "for i in range(len(test_set_predictions)):\n",
    "    if test_set_predictions[i] != y_test[i]:\n",
    "        test_misclassification_percentage += 1\n",
    "test_misclassification_percentage *= 100/len(y_test)\n",
    "print ('Test_misclass_percentage =', test_misclassification_percentage, '%')"
   ]
  },
  {
   "cell_type": "code",
   "execution_count": null,
   "metadata": {},
   "outputs": [],
   "source": []
  },
  {
   "cell_type": "code",
   "execution_count": null,
   "metadata": {},
   "outputs": [],
   "source": []
  }
 ],
 "metadata": {
  "kernelspec": {
   "display_name": "Python 3",
   "language": "python",
   "name": "python3"
  },
  "language_info": {
   "codemirror_mode": {
    "name": "ipython",
    "version": 3
   },
   "file_extension": ".py",
   "mimetype": "text/x-python",
   "name": "python",
   "nbconvert_exporter": "python",
   "pygments_lexer": "ipython3",
   "version": "3.6.4"
  }
 },
 "nbformat": 4,
 "nbformat_minor": 2
}
